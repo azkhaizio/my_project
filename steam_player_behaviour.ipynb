{
 "cells": [
  {
   "cell_type": "code",
   "execution_count": 1,
   "id": "8925aa04",
   "metadata": {},
   "outputs": [],
   "source": [
    "import numpy as np \n",
    "import pandas as pd \n",
    "import pandas as pd\n",
    "import seaborn as sns\n",
    "import matplotlib.pyplot as plt"
   ]
  },
  {
   "cell_type": "code",
   "execution_count": 2,
   "id": "985b6fae",
   "metadata": {},
   "outputs": [
    {
     "name": "stdout",
     "output_type": "stream",
     "text": [
      "E:\\myproject\\steam\\achievements.csv\n",
      "E:\\myproject\\steam\\friends.csv\n",
      "E:\\myproject\\steam\\games.csv\n",
      "E:\\myproject\\steam\\history.csv\n",
      "E:\\myproject\\steam\\players.csv\n",
      "E:\\myproject\\steam\\prices.csv\n",
      "E:\\myproject\\steam\\private_steamids.csv\n",
      "E:\\myproject\\steam\\purchased_games.csv\n",
      "E:\\myproject\\steam\\reviews.csv\n"
     ]
    },
    {
     "name": "stderr",
     "output_type": "stream",
     "text": [
      "<>:3: SyntaxWarning: invalid escape sequence '\\m'\n",
      "<>:3: SyntaxWarning: invalid escape sequence '\\m'\n",
      "C:\\Users\\Admin\\AppData\\Local\\Temp\\ipykernel_16936\\1105647532.py:3: SyntaxWarning: invalid escape sequence '\\m'\n",
      "  path= 'E:\\myproject\\steam'\n"
     ]
    }
   ],
   "source": [
    "import os\n",
    "import warnings\n",
    "path= 'E:\\myproject\\steam'\n",
    "warnings.filterwarnings(\"ignore\")\n",
    "for dirname, _, filenames in os.walk(path):\n",
    "    for filename in filenames:\n",
    "        filepath= os.path.join(dirname, filename)\n",
    "        print(filepath)"
   ]
  },
  {
   "cell_type": "code",
   "execution_count": 3,
   "id": "9ce30c7e",
   "metadata": {},
   "outputs": [],
   "source": [
    "folder_path = r\"E:\\myproject\\steam\"\n",
    "\n",
    "# List of filenames\n",
    "filenames = [\n",
    "    \"achievements.csv\",\n",
    "    \"friends.csv\",\n",
    "    \"games.csv\",\n",
    "    \"history.csv\",\n",
    "    \"players.csv\",\n",
    "    \"prices.csv\",\n",
    "    \"private_steamids.csv\",\n",
    "    \"purchased_games.csv\",\n",
    "    \"reviews.csv\"\n",
    "]\n",
    "\n",
    "# Dictionary to store DataFrames\n",
    "dataframes = {}\n",
    "for filename in filenames:\n",
    "    file_path = os.path.join(folder_path, filename)\n",
    "    var_name = os.path.splitext(filename)[0]\n",
    "    globals()[var_name] = pd.read_csv(file_path)"
   ]
  },
  {
   "cell_type": "code",
   "execution_count": 4,
   "id": "20510236",
   "metadata": {},
   "outputs": [
    {
     "data": {
      "text/html": [
       "<div>\n",
       "<style scoped>\n",
       "    .dataframe tbody tr th:only-of-type {\n",
       "        vertical-align: middle;\n",
       "    }\n",
       "\n",
       "    .dataframe tbody tr th {\n",
       "        vertical-align: top;\n",
       "    }\n",
       "\n",
       "    .dataframe thead th {\n",
       "        text-align: right;\n",
       "    }\n",
       "</style>\n",
       "<table border=\"1\" class=\"dataframe\">\n",
       "  <thead>\n",
       "    <tr style=\"text-align: right;\">\n",
       "      <th></th>\n",
       "      <th>playerid</th>\n",
       "      <th>country</th>\n",
       "      <th>created</th>\n",
       "    </tr>\n",
       "  </thead>\n",
       "  <tbody>\n",
       "    <tr>\n",
       "      <th>0</th>\n",
       "      <td>76561198287452552</td>\n",
       "      <td>Brazil</td>\n",
       "      <td>2016-03-02 06:14:20</td>\n",
       "    </tr>\n",
       "    <tr>\n",
       "      <th>1</th>\n",
       "      <td>76561198040436563</td>\n",
       "      <td>Israel</td>\n",
       "      <td>2011-04-10 17:10:06</td>\n",
       "    </tr>\n",
       "    <tr>\n",
       "      <th>2</th>\n",
       "      <td>76561198049686270</td>\n",
       "      <td>NaN</td>\n",
       "      <td>2011-09-28 21:43:59</td>\n",
       "    </tr>\n",
       "    <tr>\n",
       "      <th>3</th>\n",
       "      <td>76561198155814250</td>\n",
       "      <td>Kazakhstan</td>\n",
       "      <td>2014-09-24 19:52:47</td>\n",
       "    </tr>\n",
       "    <tr>\n",
       "      <th>4</th>\n",
       "      <td>76561198119605821</td>\n",
       "      <td>NaN</td>\n",
       "      <td>2013-12-26 00:25:50</td>\n",
       "    </tr>\n",
       "  </tbody>\n",
       "</table>\n",
       "</div>"
      ],
      "text/plain": [
       "            playerid     country              created\n",
       "0  76561198287452552      Brazil  2016-03-02 06:14:20\n",
       "1  76561198040436563      Israel  2011-04-10 17:10:06\n",
       "2  76561198049686270         NaN  2011-09-28 21:43:59\n",
       "3  76561198155814250  Kazakhstan  2014-09-24 19:52:47\n",
       "4  76561198119605821         NaN  2013-12-26 00:25:50"
      ]
     },
     "execution_count": 4,
     "metadata": {},
     "output_type": "execute_result"
    }
   ],
   "source": [
    "players.head(5)"
   ]
  },
  {
   "cell_type": "code",
   "execution_count": 5,
   "id": "af163f66",
   "metadata": {},
   "outputs": [
    {
     "data": {
      "text/html": [
       "<div>\n",
       "<style scoped>\n",
       "    .dataframe tbody tr th:only-of-type {\n",
       "        vertical-align: middle;\n",
       "    }\n",
       "\n",
       "    .dataframe tbody tr th {\n",
       "        vertical-align: top;\n",
       "    }\n",
       "\n",
       "    .dataframe thead th {\n",
       "        text-align: right;\n",
       "    }\n",
       "</style>\n",
       "<table border=\"1\" class=\"dataframe\">\n",
       "  <thead>\n",
       "    <tr style=\"text-align: right;\">\n",
       "      <th></th>\n",
       "      <th>playerid</th>\n",
       "      <th>library</th>\n",
       "    </tr>\n",
       "  </thead>\n",
       "  <tbody>\n",
       "    <tr>\n",
       "      <th>0</th>\n",
       "      <td>76561198060698936</td>\n",
       "      <td>[60, 1670, 3830, 1600, 2900, 2910, 2920, 4800,...</td>\n",
       "    </tr>\n",
       "    <tr>\n",
       "      <th>1</th>\n",
       "      <td>76561198287452552</td>\n",
       "      <td>[10, 80, 100, 240, 2990, 6880, 6910, 6920, 698...</td>\n",
       "    </tr>\n",
       "    <tr>\n",
       "      <th>2</th>\n",
       "      <td>76561198040436563</td>\n",
       "      <td>[10, 80, 100, 300, 20, 30, 40, 50, 60, 70, 130...</td>\n",
       "    </tr>\n",
       "    <tr>\n",
       "      <th>3</th>\n",
       "      <td>76561198042412488</td>\n",
       "      <td>[300, 240, 220, 320, 360, 4300, 4800, 4000, 61...</td>\n",
       "    </tr>\n",
       "    <tr>\n",
       "      <th>4</th>\n",
       "      <td>76561198119605821</td>\n",
       "      <td>[47870, 108600, 550, 271590, 331470, 381210, 2...</td>\n",
       "    </tr>\n",
       "  </tbody>\n",
       "</table>\n",
       "</div>"
      ],
      "text/plain": [
       "            playerid                                            library\n",
       "0  76561198060698936  [60, 1670, 3830, 1600, 2900, 2910, 2920, 4800,...\n",
       "1  76561198287452552  [10, 80, 100, 240, 2990, 6880, 6910, 6920, 698...\n",
       "2  76561198040436563  [10, 80, 100, 300, 20, 30, 40, 50, 60, 70, 130...\n",
       "3  76561198042412488  [300, 240, 220, 320, 360, 4300, 4800, 4000, 61...\n",
       "4  76561198119605821  [47870, 108600, 550, 271590, 331470, 381210, 2..."
      ]
     },
     "execution_count": 5,
     "metadata": {},
     "output_type": "execute_result"
    }
   ],
   "source": [
    "purchased_games.head(5)"
   ]
  },
  {
   "cell_type": "code",
   "execution_count": 6,
   "id": "01b7191d",
   "metadata": {},
   "outputs": [
    {
     "data": {
      "text/html": [
       "<div>\n",
       "<style scoped>\n",
       "    .dataframe tbody tr th:only-of-type {\n",
       "        vertical-align: middle;\n",
       "    }\n",
       "\n",
       "    .dataframe tbody tr th {\n",
       "        vertical-align: top;\n",
       "    }\n",
       "\n",
       "    .dataframe thead th {\n",
       "        text-align: right;\n",
       "    }\n",
       "</style>\n",
       "<table border=\"1\" class=\"dataframe\">\n",
       "  <thead>\n",
       "    <tr style=\"text-align: right;\">\n",
       "      <th></th>\n",
       "      <th>playerid</th>\n",
       "      <th>friends</th>\n",
       "    </tr>\n",
       "  </thead>\n",
       "  <tbody>\n",
       "    <tr>\n",
       "      <th>0</th>\n",
       "      <td>76561198060422271</td>\n",
       "      <td>['76561198018120276', '76561198034545417', '76...</td>\n",
       "    </tr>\n",
       "    <tr>\n",
       "      <th>1</th>\n",
       "      <td>76561198113439786</td>\n",
       "      <td>['76561198047435192', '76561198059136488', '76...</td>\n",
       "    </tr>\n",
       "    <tr>\n",
       "      <th>2</th>\n",
       "      <td>76561198149851326</td>\n",
       "      <td>['76561197991555589', '76561198003513187', '76...</td>\n",
       "    </tr>\n",
       "    <tr>\n",
       "      <th>3</th>\n",
       "      <td>76561198296997371</td>\n",
       "      <td>NaN</td>\n",
       "    </tr>\n",
       "    <tr>\n",
       "      <th>4</th>\n",
       "      <td>76561198895573082</td>\n",
       "      <td>['76561197960300358', '76561197961330830', '76...</td>\n",
       "    </tr>\n",
       "  </tbody>\n",
       "</table>\n",
       "</div>"
      ],
      "text/plain": [
       "            playerid                                            friends\n",
       "0  76561198060422271  ['76561198018120276', '76561198034545417', '76...\n",
       "1  76561198113439786  ['76561198047435192', '76561198059136488', '76...\n",
       "2  76561198149851326  ['76561197991555589', '76561198003513187', '76...\n",
       "3  76561198296997371                                                NaN\n",
       "4  76561198895573082  ['76561197960300358', '76561197961330830', '76..."
      ]
     },
     "execution_count": 6,
     "metadata": {},
     "output_type": "execute_result"
    }
   ],
   "source": [
    "friends.head(5)"
   ]
  },
  {
   "cell_type": "code",
   "execution_count": 7,
   "id": "0e2cf7f9",
   "metadata": {},
   "outputs": [
    {
     "data": {
      "text/html": [
       "<div>\n",
       "<style scoped>\n",
       "    .dataframe tbody tr th:only-of-type {\n",
       "        vertical-align: middle;\n",
       "    }\n",
       "\n",
       "    .dataframe tbody tr th {\n",
       "        vertical-align: top;\n",
       "    }\n",
       "\n",
       "    .dataframe thead th {\n",
       "        text-align: right;\n",
       "    }\n",
       "</style>\n",
       "<table border=\"1\" class=\"dataframe\">\n",
       "  <thead>\n",
       "    <tr style=\"text-align: right;\">\n",
       "      <th></th>\n",
       "      <th>playerid</th>\n",
       "      <th>country</th>\n",
       "      <th>created</th>\n",
       "      <th>library</th>\n",
       "      <th>friends</th>\n",
       "    </tr>\n",
       "  </thead>\n",
       "  <tbody>\n",
       "    <tr>\n",
       "      <th>0</th>\n",
       "      <td>76561198287452552</td>\n",
       "      <td>Brazil</td>\n",
       "      <td>2016-03-02 06:14:20</td>\n",
       "      <td>[10, 80, 100, 240, 2990, 6880, 6910, 6920, 698...</td>\n",
       "      <td>NaN</td>\n",
       "    </tr>\n",
       "    <tr>\n",
       "      <th>1</th>\n",
       "      <td>76561198040436563</td>\n",
       "      <td>Israel</td>\n",
       "      <td>2011-04-10 17:10:06</td>\n",
       "      <td>[10, 80, 100, 300, 20, 30, 40, 50, 60, 70, 130...</td>\n",
       "      <td>['76561197961017729', '76561197963826101', '76...</td>\n",
       "    </tr>\n",
       "    <tr>\n",
       "      <th>2</th>\n",
       "      <td>76561198049686270</td>\n",
       "      <td>NaN</td>\n",
       "      <td>2011-09-28 21:43:59</td>\n",
       "      <td>NaN</td>\n",
       "      <td>['76561197966947992', '76561197967022261', '76...</td>\n",
       "    </tr>\n",
       "    <tr>\n",
       "      <th>3</th>\n",
       "      <td>76561198155814250</td>\n",
       "      <td>Kazakhstan</td>\n",
       "      <td>2014-09-24 19:52:47</td>\n",
       "      <td>NaN</td>\n",
       "      <td>['76561197967179492', '76561198012726211', '76...</td>\n",
       "    </tr>\n",
       "    <tr>\n",
       "      <th>4</th>\n",
       "      <td>76561198119605821</td>\n",
       "      <td>NaN</td>\n",
       "      <td>2013-12-26 00:25:50</td>\n",
       "      <td>[47870, 108600, 550, 271590, 331470, 381210, 2...</td>\n",
       "      <td>['76561197993755024', '76561198035895485', '76...</td>\n",
       "    </tr>\n",
       "  </tbody>\n",
       "</table>\n",
       "</div>"
      ],
      "text/plain": [
       "            playerid     country              created  \\\n",
       "0  76561198287452552      Brazil  2016-03-02 06:14:20   \n",
       "1  76561198040436563      Israel  2011-04-10 17:10:06   \n",
       "2  76561198049686270         NaN  2011-09-28 21:43:59   \n",
       "3  76561198155814250  Kazakhstan  2014-09-24 19:52:47   \n",
       "4  76561198119605821         NaN  2013-12-26 00:25:50   \n",
       "\n",
       "                                             library  \\\n",
       "0  [10, 80, 100, 240, 2990, 6880, 6910, 6920, 698...   \n",
       "1  [10, 80, 100, 300, 20, 30, 40, 50, 60, 70, 130...   \n",
       "2                                                NaN   \n",
       "3                                                NaN   \n",
       "4  [47870, 108600, 550, 271590, 331470, 381210, 2...   \n",
       "\n",
       "                                             friends  \n",
       "0                                                NaN  \n",
       "1  ['76561197961017729', '76561197963826101', '76...  \n",
       "2  ['76561197966947992', '76561197967022261', '76...  \n",
       "3  ['76561197967179492', '76561198012726211', '76...  \n",
       "4  ['76561197993755024', '76561198035895485', '76...  "
      ]
     },
     "execution_count": 7,
     "metadata": {},
     "output_type": "execute_result"
    }
   ],
   "source": [
    "players = players.merge(purchased_games, on='playerid', how='left')\n",
    "players = players.merge(friends, on='playerid', how='left')\n",
    "players.head(5)"
   ]
  },
  {
   "cell_type": "code",
   "execution_count": 8,
   "id": "5437c7c4",
   "metadata": {},
   "outputs": [
    {
     "name": "stdout",
     "output_type": "stream",
     "text": [
      "<class 'pandas.core.frame.DataFrame'>\n",
      "RangeIndex: 424683 entries, 0 to 424682\n",
      "Data columns (total 5 columns):\n",
      " #   Column    Non-Null Count   Dtype \n",
      "---  ------    --------------   ----- \n",
      " 0   playerid  424683 non-null  int64 \n",
      " 1   country   246815 non-null  object\n",
      " 2   created   377014 non-null  object\n",
      " 3   library   46941 non-null   object\n",
      " 4   friends   339461 non-null  object\n",
      "dtypes: int64(1), object(4)\n",
      "memory usage: 16.2+ MB\n"
     ]
    }
   ],
   "source": [
    "players.info()"
   ]
  },
  {
   "cell_type": "code",
   "execution_count": 9,
   "id": "256dcbd9",
   "metadata": {},
   "outputs": [
    {
     "data": {
      "text/plain": [
       "(424683, 5)"
      ]
     },
     "execution_count": 9,
     "metadata": {},
     "output_type": "execute_result"
    }
   ],
   "source": [
    "players.shape"
   ]
  },
  {
   "cell_type": "code",
   "execution_count": 10,
   "id": "994d0dee",
   "metadata": {},
   "outputs": [
    {
     "data": {
      "text/html": [
       "<div>\n",
       "<style scoped>\n",
       "    .dataframe tbody tr th:only-of-type {\n",
       "        vertical-align: middle;\n",
       "    }\n",
       "\n",
       "    .dataframe tbody tr th {\n",
       "        vertical-align: top;\n",
       "    }\n",
       "\n",
       "    .dataframe thead th {\n",
       "        text-align: right;\n",
       "    }\n",
       "</style>\n",
       "<table border=\"1\" class=\"dataframe\">\n",
       "  <thead>\n",
       "    <tr style=\"text-align: right;\">\n",
       "      <th></th>\n",
       "      <th>playerid</th>\n",
       "    </tr>\n",
       "  </thead>\n",
       "  <tbody>\n",
       "    <tr>\n",
       "      <th>count</th>\n",
       "      <td>4.246830e+05</td>\n",
       "    </tr>\n",
       "    <tr>\n",
       "      <th>mean</th>\n",
       "      <td>7.656120e+16</td>\n",
       "    </tr>\n",
       "    <tr>\n",
       "      <th>std</th>\n",
       "      <td>3.995359e+08</td>\n",
       "    </tr>\n",
       "    <tr>\n",
       "      <th>min</th>\n",
       "      <td>7.656120e+16</td>\n",
       "    </tr>\n",
       "    <tr>\n",
       "      <th>25%</th>\n",
       "      <td>7.656120e+16</td>\n",
       "    </tr>\n",
       "    <tr>\n",
       "      <th>50%</th>\n",
       "      <td>7.656120e+16</td>\n",
       "    </tr>\n",
       "    <tr>\n",
       "      <th>75%</th>\n",
       "      <td>7.656120e+16</td>\n",
       "    </tr>\n",
       "    <tr>\n",
       "      <th>max</th>\n",
       "      <td>7.656120e+16</td>\n",
       "    </tr>\n",
       "  </tbody>\n",
       "</table>\n",
       "</div>"
      ],
      "text/plain": [
       "           playerid\n",
       "count  4.246830e+05\n",
       "mean   7.656120e+16\n",
       "std    3.995359e+08\n",
       "min    7.656120e+16\n",
       "25%    7.656120e+16\n",
       "50%    7.656120e+16\n",
       "75%    7.656120e+16\n",
       "max    7.656120e+16"
      ]
     },
     "execution_count": 10,
     "metadata": {},
     "output_type": "execute_result"
    }
   ],
   "source": [
    "players.describe()"
   ]
  },
  {
   "cell_type": "code",
   "execution_count": 11,
   "id": "f590e05d",
   "metadata": {},
   "outputs": [
    {
     "data": {
      "text/plain": [
       "playerid         0\n",
       "country     177868\n",
       "created      47669\n",
       "library     377742\n",
       "friends      85222\n",
       "dtype: int64"
      ]
     },
     "execution_count": 11,
     "metadata": {},
     "output_type": "execute_result"
    }
   ],
   "source": [
    "players.isnull().sum()"
   ]
  },
  {
   "cell_type": "code",
   "execution_count": 12,
   "id": "f32a33ce",
   "metadata": {},
   "outputs": [
    {
     "data": {
      "text/plain": [
       "([0, 1, 2, 3, 4, 5, 6, 7, 8, 9],\n",
       " [Text(0, 0, 'Unknown'),\n",
       "  Text(1, 0, 'United States'),\n",
       "  Text(2, 0, 'Brazil'),\n",
       "  Text(3, 0, 'United Kingdom'),\n",
       "  Text(4, 0, 'Russian Federation'),\n",
       "  Text(5, 0, 'China'),\n",
       "  Text(6, 0, 'Poland'),\n",
       "  Text(7, 0, 'Germany'),\n",
       "  Text(8, 0, 'Türkiye'),\n",
       "  Text(9, 0, 'Canada')])"
      ]
     },
     "execution_count": 12,
     "metadata": {},
     "output_type": "execute_result"
    },
    {
     "data": {
      "image/png": "[encoded data removed]",
      "text/plain": [
       "<Figure size 1200x600 with 1 Axes>"
      ]
     },
     "metadata": {},
     "output_type": "display_data"
    }
   ],
   "source": [
    "players[\"country\"]= players[\"country\"].fillna(\"Unknown\")\n",
    "country_counts=  players.groupby(\"country\").agg({'playerid':'count'}).reset_index()\n",
    "country_counts= country_counts.sort_values(by=\"playerid\", ascending= False)\n",
    "plt.figure(figsize =(12,6))\n",
    "sns.barplot(x= country_counts[\"country\"][:10], y= country_counts[\"playerid\"][:10])\n",
    "plt.xticks(rotation= 25)"
   ]
  },
  {
   "cell_type": "code",
   "execution_count": 13,
   "id": "bee8fdc9",
   "metadata": {},
   "outputs": [
    {
     "data": {
      "image/png": "[encoded data removed]",
      "text/plain": [
       "<Figure size 1200x600 with 1 Axes>"
      ]
     },
     "metadata": {},
     "output_type": "display_data"
    }
   ],
   "source": [
    "players[\"year_created\"] = players[\"created\"].str[:4]\n",
    "gby = players.groupby(\"year_created\").agg({\"playerid\":'count'}).reset_index()\n",
    "\n",
    "plt.figure(figsize =(12,6))\n",
    "ax =sns.barplot(x= gby[\"year_created\"], y= gby[\"playerid\"])\n",
    "plt.xticks(rotation= 25)\n",
    "for bar in ax.patches:\n",
    "    # Get bar height\n",
    "    height = bar.get_height()\n",
    "    # Place the text in the center top of each bar\n",
    "    ax.text(\n",
    "        bar.get_x() + bar.get_width() / 2,   # X-coordinate\n",
    "        height,                              # Y-coordinate (at the top of the bar)\n",
    "        f'{int(height)}',                         # Text label (formatted as needed)\n",
    "        ha='center',                         # Horizontal alignment\n",
    "        va='bottom' ,    \n",
    "        fontsize = 8                    # Vertical alignment\n",
    "    )\n"
   ]
  },
  {
   "cell_type": "code",
   "execution_count": 14,
   "id": "256502b0",
   "metadata": {},
   "outputs": [],
   "source": [
    "from collections import Counter\n",
    "import ast"
   ]
  },
  {
   "cell_type": "code",
   "execution_count": 15,
   "id": "409b6740",
   "metadata": {},
   "outputs": [],
   "source": [
    "def safe_parse_owned(x):\n",
    "    if isinstance(x, str):\n",
    "        try:\n",
    "            return ast.literal_eval(x)\n",
    "        except:\n",
    "            return []\n",
    "    else:\n",
    "        return [] \n",
    "    \n",
    "\n",
    "playerss= players[players['library'].notna()].copy()\n",
    "playerss[\"library\"] = playerss[\"library\"].apply(safe_parse_owned)\n",
    "    \n"
   ]
  },
  {
   "cell_type": "code",
   "execution_count": 16,
   "id": "6de4d0c3",
   "metadata": {},
   "outputs": [
    {
     "name": "stdout",
     "output_type": "stream",
     "text": [
      "Most common game ID: 730, Count: 43967\n"
     ]
    }
   ],
   "source": [
    "all_games = [game for sublist in playerss['library'] for game in sublist]\n",
    "game_counts = Counter(all_games)\n",
    "\n",
    "if game_counts:\n",
    "    most_common_game, count = game_counts.most_common(1)[0]\n",
    "    print(f\"Most common game ID: {most_common_game}, Count: {count}\")\n",
    "else:\n",
    "    print(\"No valid game data found.\")"
   ]
  },
  {
   "cell_type": "code",
   "execution_count": 18,
   "id": "766c511b",
   "metadata": {},
   "outputs": [
    {
     "data": {
      "text/html": [
       "<div>\n",
       "<style scoped>\n",
       "    .dataframe tbody tr th:only-of-type {\n",
       "        vertical-align: middle;\n",
       "    }\n",
       "\n",
       "    .dataframe tbody tr th {\n",
       "        vertical-align: top;\n",
       "    }\n",
       "\n",
       "    .dataframe thead th {\n",
       "        text-align: right;\n",
       "    }\n",
       "</style>\n",
       "<table border=\"1\" class=\"dataframe\">\n",
       "  <thead>\n",
       "    <tr style=\"text-align: right;\">\n",
       "      <th></th>\n",
       "      <th>gameid</th>\n",
       "      <th>count</th>\n",
       "    </tr>\n",
       "  </thead>\n",
       "  <tbody>\n",
       "    <tr>\n",
       "      <th>149</th>\n",
       "      <td>730</td>\n",
       "      <td>43967</td>\n",
       "    </tr>\n",
       "    <tr>\n",
       "      <th>308</th>\n",
       "      <td>578080</td>\n",
       "      <td>28356</td>\n",
       "    </tr>\n",
       "    <tr>\n",
       "      <th>24</th>\n",
       "      <td>550</td>\n",
       "      <td>24727</td>\n",
       "    </tr>\n",
       "    <tr>\n",
       "      <th>297</th>\n",
       "      <td>218620</td>\n",
       "      <td>23785</td>\n",
       "    </tr>\n",
       "    <tr>\n",
       "      <th>651</th>\n",
       "      <td>304930</td>\n",
       "      <td>21620</td>\n",
       "    </tr>\n",
       "    <tr>\n",
       "      <th>...</th>\n",
       "      <td>...</td>\n",
       "      <td>...</td>\n",
       "    </tr>\n",
       "    <tr>\n",
       "      <th>32706</th>\n",
       "      <td>663020</td>\n",
       "      <td>1</td>\n",
       "    </tr>\n",
       "    <tr>\n",
       "      <th>32718</th>\n",
       "      <td>656170</td>\n",
       "      <td>1</td>\n",
       "    </tr>\n",
       "    <tr>\n",
       "      <th>32744</th>\n",
       "      <td>647790</td>\n",
       "      <td>1</td>\n",
       "    </tr>\n",
       "    <tr>\n",
       "      <th>37386</th>\n",
       "      <td>560920</td>\n",
       "      <td>1</td>\n",
       "    </tr>\n",
       "    <tr>\n",
       "      <th>40987</th>\n",
       "      <td>2899050</td>\n",
       "      <td>1</td>\n",
       "    </tr>\n",
       "  </tbody>\n",
       "</table>\n",
       "<p>40988 rows × 2 columns</p>\n",
       "</div>"
      ],
      "text/plain": [
       "        gameid  count\n",
       "149        730  43967\n",
       "308     578080  28356\n",
       "24         550  24727\n",
       "297     218620  23785\n",
       "651     304930  21620\n",
       "...        ...    ...\n",
       "32706   663020      1\n",
       "32718   656170      1\n",
       "32744   647790      1\n",
       "37386   560920      1\n",
       "40987  2899050      1\n",
       "\n",
       "[40988 rows x 2 columns]"
      ]
     },
     "execution_count": 18,
     "metadata": {},
     "output_type": "execute_result"
    }
   ],
   "source": [
    "game_count = pd.DataFrame(game_counts.items(), columns=['gameid', 'count'])\n",
    "game_count = game_count.sort_values(by=\"count\", ascending= False)\n",
    "game_count"
   ]
  },
  {
   "cell_type": "code",
   "execution_count": null,
   "id": "5761bb09",
   "metadata": {},
   "outputs": [],
   "source": []
  }
 ],
 "metadata": {
  "kernelspec": {
   "display_name": "Python 3",
   "language": "python",
   "name": "python3"
  },
  "language_info": {
   "codemirror_mode": {
    "name": "ipython",
    "version": 3
   },
   "file_extension": ".py",
   "mimetype": "text/x-python",
   "name": "python",
   "nbconvert_exporter": "python",
   "pygments_lexer": "ipython3",
   "version": "3.12.10"
  }
 },
 "nbformat": 4,
 "nbformat_minor": 5
}
